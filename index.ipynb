{
 "cells": [
  {
   "cell_type": "markdown",
   "metadata": {
    "collapsed": true
   },
   "source": [
    "# Dictionaries lab"
   ]
  },
  {
   "cell_type": "markdown",
   "metadata": {},
   "source": [
    "### Introduction"
   ]
  },
  {
   "cell_type": "markdown",
   "metadata": {},
   "source": [
    "Now that we know about dictionaries in Python, it is time to practice using them. In this lesson, we'll use our knowledge of dictionaries to retrieve and assign data about various cities."
   ]
  },
  {
   "cell_type": "markdown",
   "metadata": {},
   "source": [
    "### Objectives"
   ]
  },
  {
   "cell_type": "markdown",
   "metadata": {},
   "source": [
    "* Practice retrieving information from dictionaries\n",
    "* Practice assigning new information to dictionaries\n",
    "* Practice retrieving information from a list of dictionaries"
   ]
  },
  {
   "cell_type": "markdown",
   "metadata": {},
   "source": [
    "### Working with a single dictionary"
   ]
  },
  {
   "cell_type": "markdown",
   "metadata": {},
   "source": [
    "Here is a dictionary representing the city of Greenville, North Carolina.  The area is in kilometers squared."
   ]
  },
  {
   "cell_type": "code",
   "execution_count": null,
   "metadata": {},
   "outputs": [],
   "source": [
    "greenville = {'Area': 68, 'City': 'Greenville', 'Country': 'USA', 'Population': 84554}"
   ]
  },
  {
   "cell_type": "markdown",
   "metadata": {},
   "source": [
    "> Remember to press shift + enter to run the code."
   ]
  },
  {
   "cell_type": "markdown",
   "metadata": {},
   "source": [
    "Let's retrieve the population of the city and assign it to the variable `greenville_population`."
   ]
  },
  {
   "cell_type": "code",
   "execution_count": null,
   "metadata": {},
   "outputs": [],
   "source": [
    "greenville_population = None # change None\n",
    "greenville_population # 84554"
   ]
  },
  {
   "cell_type": "markdown",
   "metadata": {},
   "source": [
    "Now retrieve the area of Greenville and assign it to the variable `greenville_area`."
   ]
  },
  {
   "cell_type": "code",
   "execution_count": null,
   "metadata": {},
   "outputs": [],
   "source": [
    "greenville_area = None\n",
    "greenville_area # 68"
   ]
  },
  {
   "cell_type": "markdown",
   "metadata": {},
   "source": [
    "Now let's take a look at all of the keys in the `greenville` dictionary and coerce them into a list.  Assign this variable to the list `city_keys`."
   ]
  },
  {
   "cell_type": "code",
   "execution_count": null,
   "metadata": {},
   "outputs": [],
   "source": [
    "city_keys = None\n",
    "city_keys # ['Area', 'City', 'Country', 'Population']"
   ]
  },
  {
   "cell_type": "markdown",
   "metadata": {},
   "source": [
    "Alright, next let's get all of the values in our greenville dictionary and coerce it into a list.  Assign that list to the variable `city_values`."
   ]
  },
  {
   "cell_type": "code",
   "execution_count": null,
   "metadata": {},
   "outputs": [],
   "source": [
    "city_values = None\n",
    "city_values # [68, 'Greenville', 'USA', 84554]"
   ]
  },
  {
   "cell_type": "markdown",
   "metadata": {},
   "source": [
    "### Working with multiple cities"
   ]
  },
  {
   "cell_type": "markdown",
   "metadata": {},
   "source": [
    "We can retrieve our data from an excel or Google sheets like the one [shown here](https://docs.google.com/spreadsheets/d/1BTJMMFH9t4p5UmHj5kiC6PGfMN6yaaaZkocx0mDqTK0/edit#gid=0) named Travel Cities and Countries."
   ]
  },
  {
   "cell_type": "markdown",
   "metadata": {},
   "source": [
    "![](./countries-cities.png)"
   ]
  },
  {
   "cell_type": "markdown",
   "metadata": {},
   "source": [
    "Lukily for us, we already have the spreadsheet downloaded and located in the current folder.  You can find the file [in the github repository](https://github.com/learn-co-curriculum/python-lists-lab). Next, we will use a Library called **Pandas** to get this data from the excel file into Python code. We already have the code for reading an excel file into Python written for us below. Let's check it out."
   ]
  },
  {
   "cell_type": "markdown",
   "metadata": {},
   "source": [
    "> **Note:** To import a library or module in Python, we do so by writing `import` followed by the name of the thing we want to import. We can optionally include an *alias* for our import, which is done by writing **as** after the name of the thing we are importing followed by the name we would like to use for our *alias*. **Do not worry** about aliases right now. Just know that the *convention* for importing the pandas library is to import it and alias it as `pd` like we see below. "
   ]
  },
  {
   "cell_type": "code",
   "execution_count": null,
   "metadata": {},
   "outputs": [],
   "source": [
    "import pandas as pd\n",
    "file_name = './cities.xlsx'\n",
    "travel_df = pd.read_excel(file_name)\n",
    "cities = travel_df.to_dict('records')"
   ]
  },
  {
   "cell_type": "markdown",
   "metadata": {},
   "source": [
    "> Remember to press shift + enter."
   ]
  },
  {
   "cell_type": "markdown",
   "metadata": {},
   "source": [
    "Great! We just used pandas to read the data from our excel file and turn each row of data into a dictionary. Again, don't worry about exactly how pandas is doing this, but know that pandas is a great tool when trying to accomplish a task such as turning data from an excel file into data we can use in Python.\n",
    "\n",
    "Run the cell below to see what our data looks like now."
   ]
  },
  {
   "cell_type": "code",
   "execution_count": null,
   "metadata": {},
   "outputs": [],
   "source": [
    "cities"
   ]
  },
  {
   "cell_type": "markdown",
   "metadata": {},
   "source": [
    "Ok, so the list of countries associated with each city has been assigned to the variable `cities`.  Now we will work with reading and manipulating this list of cities."
   ]
  },
  {
   "cell_type": "markdown",
   "metadata": {},
   "source": [
    "### Working with our list of cities"
   ]
  },
  {
   "cell_type": "markdown",
   "metadata": {},
   "source": [
    "First, access the third to last element and set it equal to the variable `salina`."
   ]
  },
  {
   "cell_type": "code",
   "execution_count": null,
   "metadata": {},
   "outputs": [],
   "source": [
    "salina = None \n",
    "salina\n",
    "# {'Area': 27, 'City': 'Salina Island', 'Country': 'Italy', 'Population': 4000}"
   ]
  },
  {
   "cell_type": "markdown",
   "metadata": {},
   "source": [
    "Now access the fourth country in the list, and set it's population equal to a variable called `los_cabos_pop`."
   ]
  },
  {
   "cell_type": "code",
   "execution_count": null,
   "metadata": {},
   "outputs": [],
   "source": [
    "los_cabos_pop = None\n",
    "los_cabos_pop # 287651"
   ]
  },
  {
   "cell_type": "markdown",
   "metadata": {},
   "source": [
    "Now calculate the number of cities in the list and assign the number to the variable `city_count`."
   ]
  },
  {
   "cell_type": "code",
   "execution_count": null,
   "metadata": {
    "scrolled": true
   },
   "outputs": [],
   "source": [
    "city_count = None\n",
    "city_count # 12"
   ]
  },
  {
   "cell_type": "markdown",
   "metadata": {},
   "source": [
    "Finally, change the spelling of the South Korean city, Pyeongchang, to the string `'PyeongChang'`, its alternative spelling."
   ]
  },
  {
   "cell_type": "code",
   "execution_count": null,
   "metadata": {},
   "outputs": [],
   "source": [
    "cities[11]['City'] = None\n",
    "cities[11]['City'] # 'PyeongChang'"
   ]
  },
  {
   "cell_type": "markdown",
   "metadata": {},
   "source": [
    "Now let's work on retrieving a collection of information about a dictionary.  Use the appropriate dictionary function to return a list of values in the dictionary regarding Pyeongchang.   Assign the list to the variable `pyeongchang_values`."
   ]
  },
  {
   "cell_type": "code",
   "execution_count": null,
   "metadata": {},
   "outputs": [],
   "source": [
    "pyeongchang_values = None\n",
    "\n",
    "pyeongchang_values # ['PyeongChang', 'South Korea', 2581000, 3194]\n",
    "type(pyeongchang_values) # list"
   ]
  },
  {
   "cell_type": "markdown",
   "metadata": {},
   "source": [
    "And now set `pyeongchang_keys` equal to a list of keys in the dictionary regarding Pyeongchang."
   ]
  },
  {
   "cell_type": "code",
   "execution_count": null,
   "metadata": {},
   "outputs": [],
   "source": [
    "pyeongchang_keys = None\n",
    "\n",
    "\n",
    "pyeongchang_keys # ['City', 'Country', 'Population', 'Area']\n",
    "type(pyeongchang_keys) # list"
   ]
  },
  {
   "cell_type": "markdown",
   "metadata": {},
   "source": [
    "### Summary"
   ]
  },
  {
   "cell_type": "markdown",
   "metadata": {
    "collapsed": true
   },
   "source": [
    "In this section we saw how to retrieve and re-assign data in a dictionary.  We saw how we can retrieve a collection of information from a dictionary, like a list of it's keys and values, and we saw how we can work with a list of dictionaries."
   ]
  },
  {
   "cell_type": "code",
   "execution_count": 1,
   "metadata": {},
   "outputs": [
    {
     "ename": "SyntaxError",
     "evalue": "invalid syntax (<ipython-input-1-49c91ad8ceee>, line 9)",
     "output_type": "error",
     "traceback": [
      "\u001b[0;36m  File \u001b[0;32m\"<ipython-input-1-49c91ad8ceee>\"\u001b[0;36m, line \u001b[0;32m9\u001b[0m\n\u001b[0;31m    ifjl y == x:\u001b[0m\n\u001b[0m         ^\u001b[0m\n\u001b[0;31mSyntaxError\u001b[0m\u001b[0;31m:\u001b[0m invalid syntax\n"
     ]
    }
   ],
   "source": [
    "from tabulate import tabulate\n",
    "from math import sqrt\n",
    "\n",
    "\n",
    "def mysqrt(a):\n",
    "    for x in range(1, int(1 / 2 * a)):\n",
    "        while True:\n",
    "            y = (x + a / x) / 2\n",
    "            ifjl y == x:\n",
    "                break\n",
    "            x = y\n",
    "    return x\n",
    "\n",
    "\n",
    "results = [(x, mysqrt(x), sqrt(x)) for x in range(10, 20)]\n",
    "print(tabulate(results, headers=[\"num\", \"mysqrt\", \"sqrt\"]))"
   ]
  },
  {
   "cell_type": "code",
   "execution_count": 10,
   "metadata": {},
   "outputs": [
    {
     "name": "stdout",
     "output_type": "stream",
     "text": [
      "Collecting pip\n",
      "\u001b[?25l  Downloading https://files.pythonhosted.org/packages/c2/d7/90f34cb0d83a6c5631cf71dfe64cc1054598c843a92b400e55675cc2ac37/pip-18.1-py2.py3-none-any.whl (1.3MB)\n",
      "\u001b[K    100% |████████████████████████████████| 1.3MB 18.7MB/s ta 0:00:01\n",
      "\u001b[?25hInstalling collected packages: pip\n",
      "  Found existing installation: pip 10.0.1\n",
      "    Uninstalling pip-10.0.1:\n",
      "      Successfully uninstalled pip-10.0.1\n",
      "Successfully installed pip-18.1\n"
     ]
    }
   ],
   "source": [
    "!pip install --upgrade pip"
   ]
  },
  {
   "cell_type": "code",
   "execution_count": 11,
   "metadata": {},
   "outputs": [
    {
     "name": "stdout",
     "output_type": "stream",
     "text": [
      "Collecting prettytable\n",
      "  Downloading https://files.pythonhosted.org/packages/ef/30/4b0746848746ed5941f052479e7c23d2b56d174b82f4fd34a25e389831f5/prettytable-0.7.2.tar.bz2\n",
      "Building wheels for collected packages: prettytable\n",
      "  Running setup.py bdist_wheel for prettytable ... \u001b[?25ldone\n",
      "\u001b[?25h  Stored in directory: /home/considerate-unit-4727/.cache/pip/wheels/80/34/1c/3967380d9676d162cb59513bd9dc862d0584e045a162095606\n",
      "Successfully built prettytable\n",
      "Installing collected packages: prettytable\n",
      "Successfully installed prettytable-0.7.2\n"
     ]
    }
   ],
   "source": [
    "!pip install prettytable"
   ]
  },
  {
   "cell_type": "code",
   "execution_count": 14,
   "metadata": {},
   "outputs": [
    {
     "name": "stdout",
     "output_type": "stream",
     "text": [
      "+-------+-------+\n",
      "| List1 | List2 |\n",
      "+-------+-------+\n",
      "|   A   |   1   |\n",
      "|   B   |   2   |\n",
      "|   C   |   3   |\n",
      "+-------+-------+\n"
     ]
    }
   ],
   "source": [
    "from prettytable import PrettyTable\n",
    "list1=['A','B','C']\n",
    "list2=[1,2,3]\n",
    "table = PrettyTable(['List1','List2'])\n",
    "for x in range (0,3):\n",
    "    table.add_row([list1[x],list2[x]])\n",
    "print(table)"
   ]
  },
  {
   "cell_type": "code",
   "execution_count": 37,
   "metadata": {},
   "outputs": [
    {
     "name": "stdout",
     "output_type": "stream",
     "text": [
      "+------------+--------+--------+---------+\n",
      "| Minus Five | Double | Number | Squared |\n",
      "+------------+--------+--------+---------+\n",
      "|     -4     |   2    |   1    |    1    |\n",
      "|     -3     |   4    |   2    |    4    |\n",
      "|     -2     |   6    |   3    |    9    |\n",
      "|     -1     |   8    |   4    |    16   |\n",
      "|     0      |   10   |   5    |    25   |\n",
      "|     1      |   12   |   6    |    36   |\n",
      "|     2      |   14   |   7    |    49   |\n",
      "|     3      |   16   |   8    |    64   |\n",
      "|     4      |   18   |   9    |    81   |\n",
      "|     5      |   20   |   10   |   100   |\n",
      "|     6      |   22   |   11   |   121   |\n",
      "|     7      |   24   |   12   |   144   |\n",
      "|     8      |   26   |   13   |   169   |\n",
      "|     9      |   28   |   14   |   196   |\n",
      "|     10     |   30   |   15   |   225   |\n",
      "|     11     |   32   |   16   |   256   |\n",
      "|     12     |   34   |   17   |   289   |\n",
      "|     13     |   36   |   18   |   324   |\n",
      "|     14     |   38   |   19   |   361   |\n",
      "|     15     |   40   |   20   |   400   |\n",
      "|     16     |   42   |   21   |   441   |\n",
      "|     17     |   44   |   22   |   484   |\n",
      "|     18     |   46   |   23   |   529   |\n",
      "|     19     |   48   |   24   |   576   |\n",
      "|     20     |   50   |   25   |   625   |\n",
      "|     21     |   52   |   26   |   676   |\n",
      "+------------+--------+--------+---------+\n"
     ]
    }
   ],
   "source": [
    "list1=[]\n",
    "list2=[]\n",
    "list3=[]\n",
    "list4=[]\n",
    "for i in range(1,27):\n",
    "    list1.append(i-5)\n",
    "    list2.append(i*2)\n",
    "    list3.append(i)\n",
    "    list4.append(i*i)\n",
    "table = PrettyTable(['Minus Five','Double','Number','Squared'])\n",
    "for x in range (0,len(list3)):\n",
    "    table.add_row([list1[x],list2[x],list3[x],list4[x]])\n",
    "print(table)\n"
   ]
  },
  {
   "cell_type": "code",
   "execution_count": null,
   "metadata": {},
   "outputs": [],
   "source": []
  }
 ],
 "metadata": {
  "kernelspec": {
   "display_name": "Python 3",
   "language": "python",
   "name": "python3"
  },
  "language_info": {
   "codemirror_mode": {
    "name": "ipython",
    "version": 3
   },
   "file_extension": ".py",
   "mimetype": "text/x-python",
   "name": "python",
   "nbconvert_exporter": "python",
   "pygments_lexer": "ipython3",
   "version": "3.6.6"
  }
 },
 "nbformat": 4,
 "nbformat_minor": 2
}
